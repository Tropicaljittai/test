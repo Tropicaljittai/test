{
 "cells": [
  {
   "cell_type": "code",
   "execution_count": 3,
   "metadata": {},
   "outputs": [
    {
     "name": "stdout",
     "output_type": "stream",
     "text": [
      "{'gold': 550, 'pouch': ['flint', 'twine', 'gemstone'], 'backpack': ['bedroll', 'bread loaf', 'xylophone'], 'pocket': ['seashell', 'strange berry', 'lint']}\n"
     ]
    }
   ],
   "source": [
    "inventory = {\n",
    "'gold' : 500,\n",
    "'pouch' : ['flint', 'twine', 'gemstone'],\n",
    "'backpack' : ['xylophone','dagger', 'bedroll','bread loaf']\n",
    "}\n",
    "inventory['pocket']=['seashell', 'strange berry', 'lint']\n",
    "inventory['backpack'].sort()\n",
    "inventory['backpack'].remove('dagger')\n",
    "inventory['gold']=inventory['gold']+50\n",
    "print (inventory)"
   ]
  },
  {
   "cell_type": "code",
   "execution_count": 6,
   "metadata": {},
   "outputs": [
    {
     "name": "stdout",
     "output_type": "stream",
     "text": [
      "banana\n",
      "price: 4\n",
      "stock: 3\n",
      "apple\n",
      "price: 2\n",
      "stock: 11\n",
      "orange\n",
      "price: 1.5\n",
      "stock: 2\n",
      "pear\n",
      "price: 3\n",
      "stock: 18\n",
      "12\n",
      "22\n",
      "3.0\n",
      "54\n",
      "The total money is 91.0\n"
     ]
    }
   ],
   "source": [
    "prices={}\n",
    "prices[\"banana\"]=4\n",
    "prices[\"apple\"]= 2\n",
    "prices[\"orange\"]= 1.5\n",
    "prices[\"pear\"]= 3\n",
    "stock={}\n",
    "stock[\"banana\"]= 3\n",
    "stock[\"apple\"]= 11\n",
    "stock[\"orange\"] = 2 \n",
    "stock[\"pear\"]= 18\n",
    "for food in prices:\n",
    "    print (food)\n",
    "    print (\"price: %s\" % prices[food])\n",
    "    print (\"stock: %s\" % stock[food])\n",
    "total=0\n",
    "for price in prices:\n",
    "    i = prices[price]*stock[price]\n",
    "    print (i)\n",
    "    total=total + i\n",
    "print (\"The total money is\", total)"
   ]
  },
  {
   "cell_type": "code",
   "execution_count": 12,
   "metadata": {},
   "outputs": [
    {
     "name": "stdout",
     "output_type": "stream",
     "text": [
      "24\n"
     ]
    }
   ],
   "source": [
    "l = []  \n",
    "p = True\n",
    "shopping_list = [\"banana\", \"orange\", \"apple\"]\n",
    "def compute_bill(food):\n",
    "    total=0\n",
    "    for x in food:\n",
    "        price= prices[x]\n",
    "        if stock[x]>0:\n",
    "           total=total +price\n",
    "           stock[x]=stock[x] -1\n",
    "    print (total)\n",
    "stock = {\n",
    "    \"banana\": 6,\n",
    "    \"apple\": 0,\n",
    "    \"orange\": 32,\n",
    "    \"pear\": 15\n",
    "}\n",
    "\n",
    "prices = {\n",
    "    \"banana\": 4,\n",
    "    \"apple\": 2,\n",
    "    \"orange\": 1.5,\n",
    "    \"pear\": 3\n",
    "}\n",
    "while p == True:\n",
    "    a = int(input(\"number of items: \"))\n",
    "    for i in range(0,a):\n",
    "        j = input(\"Item: \")\n",
    "        l.append(j)\n",
    "    compute_bill(l)\n",
    "    x = input(\"Buy more items? (y/n): \")\n",
    "    if x == \"n\":\n",
    "        break\n",
    "        p = False"
   ]
  },
  {
   "cell_type": "code",
   "execution_count": 1,
   "metadata": {},
   "outputs": [
    {
     "name": "stdout",
     "output_type": "stream",
     "text": [
      "Eren\n",
      "[90.0, 97.0, 75.0, 92.0]\n",
      "[88.0, 40.0, 94.0]\n",
      "[75.0, 90.0]\n",
      "Mikasa\n",
      "[100.0, 92.0, 98.0, 100.0]\n",
      "[82.0, 83.0, 91.0]\n",
      "[89.0, 97.0]\n",
      "Armin\n",
      "[0.0, 87.0, 75.0, 22.0]\n",
      "[0.0, 75.0, 78.0]\n",
      "[100.0, 100.0]\n",
      "B\n",
      "83.86666666666666\n",
      "B\n"
     ]
    }
   ],
   "source": [
    "eren = {\n",
    "    \"name\": \"Eren\",\n",
    "    \"homework\": [90.0, 97.0, 75.0, 92.0],\n",
    "    \"quizzes\": [88.0, 40.0, 94.0],\n",
    "    \"tests\": [75.0, 90.0]\n",
    "}\n",
    "mikasa = {\n",
    "    \"name\": \"Mikasa\",\n",
    "    \"homework\": [100.0, 92.0, 98.0, 100.0],\n",
    "    \"quizzes\": [82.0, 83.0, 91.0],\n",
    "    \"tests\": [89.0, 97.0]\n",
    "}\n",
    "armin = {\n",
    "    \"name\": \"Armin\",\n",
    "    \"homework\": [0.0, 87.0, 75.0, 22.0],\n",
    "    \"quizzes\": [0.0, 75.0, 78.0],\n",
    "    \"tests\": [100.0, 100.0]\n",
    "}\n",
    "\n",
    "\n",
    "students=[eren,mikasa,armin]\n",
    "\n",
    "for student in students:\n",
    "    print (student[\"name\"])\n",
    "    print (student[\"homework\"])\n",
    "    print (student[\"quizzes\"])\n",
    "    print (student[\"tests\"])\n",
    "\n",
    "def average(numbers):\n",
    "    total = sum(numbers)\n",
    "    total = float(total)\n",
    "    result = total/ (len(numbers))\n",
    "    return result\n",
    "\n",
    "def get_average(student):\n",
    "    homework=average(student[\"homework\"])\n",
    "    quizzes=average(student[\"quizzes\"])\n",
    "    tests=average(student[\"tests\"])\n",
    "    final=0.1*homework +0.3*quizzes + 0.6*tests\n",
    "    return final\n",
    "\n",
    "def get_letter_grade(score):\n",
    "    if score >= 90:\n",
    "        return \"A\"\n",
    "    elif score >=80:\n",
    "        return \"B\"\n",
    "    elif score >=70:\n",
    "        return \"C\"\n",
    "    elif score >=60:\n",
    "        return \"D\"\n",
    "    else:\n",
    "        return \"F\"\n",
    "print (get_letter_grade(get_average(eren)))\n",
    "def get_class_average(students):\n",
    "      results=[]\n",
    "      for student in students:\n",
    "          r=get_average(student)\n",
    "          results.append(r)\n",
    "\n",
    "      return average(results)\n",
    "students=[eren,mikasa,armin]\n",
    "print (get_class_average(students))\n",
    "print (get_letter_grade(get_class_average(students)))"
   ]
  },
  {
   "cell_type": "code",
   "execution_count": null,
   "metadata": {},
   "outputs": [],
   "source": []
  }
 ],
 "metadata": {
  "kernelspec": {
   "display_name": "Python 3.10.7 64-bit",
   "language": "python",
   "name": "python3"
  },
  "language_info": {
   "codemirror_mode": {
    "name": "ipython",
    "version": 3
   },
   "file_extension": ".py",
   "mimetype": "text/x-python",
   "name": "python",
   "nbconvert_exporter": "python",
   "pygments_lexer": "ipython3",
   "version": "3.10.7"
  },
  "orig_nbformat": 4,
  "vscode": {
   "interpreter": {
    "hash": "f6599f1fc4828c63e2b80b7cb09ba55f323222ad0836319fa558988e2a98299f"
   }
  }
 },
 "nbformat": 4,
 "nbformat_minor": 2
}
