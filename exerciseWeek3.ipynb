{
 "cells": [
  {
   "cell_type": "code",
   "execution_count": 43,
   "metadata": {},
   "outputs": [
    {
     "name": "stdout",
     "output_type": "stream",
     "text": [
      "Circle area:  28.26\n"
     ]
    }
   ],
   "source": [
    "#1\n",
    "n = eval(input(\"Circle radius: \"))\n",
    "a = 3.14 * (n**2)\n",
    "print (\"Circle area: \", a)"
   ]
  },
  {
   "cell_type": "code",
   "execution_count": 44,
   "metadata": {},
   "outputs": [
    {
     "name": "stdout",
     "output_type": "stream",
     "text": [
      "Hello b a\n"
     ]
    }
   ],
   "source": [
    "#2\n",
    "first = input(\"First name: \")\n",
    "last = input(\"Last name: \")\n",
    "print(\"Hello \" + last + \" \" + first)"
   ]
  },
  {
   "cell_type": "code",
   "execution_count": 45,
   "metadata": {},
   "outputs": [
    {
     "name": "stdout",
     "output_type": "stream",
     "text": [
      "Red Black\n"
     ]
    }
   ],
   "source": [
    "#3\n",
    "color_list = [\"Red\",\"Green\",\"White\",\"Black\"]\n",
    "print(color_list[0],color_list[-1])"
   ]
  },
  {
   "cell_type": "code",
   "execution_count": 1,
   "metadata": {},
   "outputs": [
    {
     "name": "stdout",
     "output_type": "stream",
     "text": [
      "369\n"
     ]
    }
   ],
   "source": [
    "#4\n",
    "a = int(input(\"An integer : \"))\n",
    "n1 = int( a )\n",
    "n2 = int( a*11)\n",
    "n3 = int( a*111 )\n",
    "print (n1+n2+n3)"
   ]
  },
  {
   "cell_type": "code",
   "execution_count": null,
   "metadata": {},
   "outputs": [
    {
     "name": "stdout",
     "output_type": "stream",
     "text": [
      "Sphere volume:  904.3199999999999\n"
     ]
    }
   ],
   "source": [
    "#5\n",
    "pi = 3.14\n",
    "r= 6\n",
    "v= (4.0/3.0*pi)* (r**3)\n",
    "print(\"Sphere volume: \",v)"
   ]
  },
  {
   "cell_type": "code",
   "execution_count": 2,
   "metadata": {},
   "outputs": [
    {
     "name": "stdout",
     "output_type": "stream",
     "text": [
      "10\n"
     ]
    }
   ],
   "source": [
    "#6\n",
    "n = int(input(\"An integer: \"))\n",
    "if (n <= 17):\n",
    "    print(17 - n)\n",
    "else:\n",
    "    print((n - 17)*2) "
   ]
  },
  {
   "cell_type": "code",
   "execution_count": null,
   "metadata": {},
   "outputs": [
    {
     "name": "stdout",
     "output_type": "stream",
     "text": [
      "28\n",
      "8\n"
     ]
    }
   ],
   "source": [
    "#6 but no input\n",
    "def count(n):\n",
    "    if (n <= 17):\n",
    "        return 17 - n\n",
    "    else:\n",
    "        return (n - 17) * 2 \n",
    "\n",
    "print(count(31))\n",
    "print(count(9))\n"
   ]
  },
  {
   "cell_type": "code",
   "execution_count": null,
   "metadata": {},
   "outputs": [
    {
     "name": "stdout",
     "output_type": "stream",
     "text": [
      "42\n",
      "45\n"
     ]
    }
   ],
   "source": [
    "#7\n",
    "def count(x, y, z):\n",
    "    sum = x + y + z\n",
    "  \n",
    "    if x == y == z:\n",
    "        sum = sum * 3\n",
    "    return sum\n",
    "\n",
    "print(count(13, 14, 15))\n",
    "print(count(5, 5, 5))"
   ]
  },
  {
   "cell_type": "code",
   "execution_count": 3,
   "metadata": {},
   "outputs": [
    {
     "name": "stdout",
     "output_type": "stream",
     "text": [
      "It's an odd number.\n"
     ]
    }
   ],
   "source": [
    "#8\n",
    "n = int(input(\"Enter an integer: \"))\n",
    "n2 = n % 2\n",
    "if n2 > 0:\n",
    "    print(\"It's an odd number.\")\n",
    "else:\n",
    "    print(\"It's an even number.\")"
   ]
  },
  {
   "cell_type": "code",
   "execution_count": null,
   "metadata": {},
   "outputs": [
    {
     "name": "stdout",
     "output_type": "stream",
     "text": [
      "It's not a vowel letter.\n"
     ]
    }
   ],
   "source": [
    "#9\n",
    "i = input(\"Input a letter: \").upper()\n",
    "vowel = {'A', 'E', 'I', 'O', 'U'}\n",
    "for n in i:\n",
    "\tif n in vowel:\n",
    "\t\tprint(\"It's a vowel letter.\")\n",
    "\telse:\n",
    "\t\tprint(\"It's not a vowel letter.\") "
   ]
  },
  {
   "cell_type": "code",
   "execution_count": 17,
   "metadata": {},
   "outputs": [
    {
     "name": "stdout",
     "output_type": "stream",
     "text": [
      "********\n",
      "**\n",
      "*******\n",
      "******\n"
     ]
    }
   ],
   "source": [
    "#11\n",
    "i = [8, 2, 7, 6]\n",
    "for n in i:\n",
    "    output = ''\n",
    "    times = n\n",
    "    while( times > 0 ):\n",
    "        output += '*'\n",
    "        times = times - 1\n",
    "    print(output)"
   ]
  },
  {
   "cell_type": "code",
   "execution_count": null,
   "metadata": {},
   "outputs": [
    {
     "name": "stdout",
     "output_type": "stream",
     "text": [
      "3  is in the group data\n"
     ]
    }
   ],
   "source": [
    "#10\n",
    "i = 3 #change the value to test\n",
    "group = {1, 2, 3, 4, 5}\n",
    "if i in group:\n",
    "    print(i, \" is in the group data\")\n",
    "else:\n",
    "    print(i, \" is not in the group data\")"
   ]
  },
  {
   "cell_type": "code",
   "execution_count": null,
   "metadata": {},
   "outputs": [
    {
     "name": "stdout",
     "output_type": "stream",
     "text": [
      "386\n",
      "462\n",
      "418\n",
      "344\n",
      "236\n",
      "566\n",
      "978\n",
      "328\n",
      "162\n",
      "758\n",
      "918\n",
      "412\n",
      "566\n",
      "826\n",
      "248\n",
      "866\n",
      "950\n",
      "626\n",
      "104\n",
      "58\n",
      "512\n",
      "24\n",
      "892\n",
      "894\n",
      "742\n",
      "958\n"
     ]
    }
   ],
   "source": [
    "#12\n",
    "numbers = [ \n",
    " 386, 462, 47, 418, 907, 344, 236, 375, 823, 566, 597, 978, 328, 615, 953, 345, \n",
    " 399, 162, 758, 219, 918, 237, 412, 566, 826, 248, 866, 950, 626, 949, 687, 217, \n",
    " 815, 67, 104, 58, 512, 24, 892, 894, 767, 553, 81, 379, 843, 831, 445, 742, 717, \n",
    " 958,743, 527 ]\n",
    "\n",
    "for i in numbers:\n",
    "    if i % 2 == 0:\n",
    "        print(i)\n",
    "\n",
    "\t\t"
   ]
  },
  {
   "cell_type": "code",
   "execution_count": null,
   "metadata": {},
   "outputs": [
    {
     "name": "stdout",
     "output_type": "stream",
     "text": [
      "Triangle are:  400.0\n"
     ]
    }
   ],
   "source": [
    "#13\n",
    "b = eval(input(\"Base of the triangle: \"))\n",
    "h = eval(input(\"Height of the triangle\"))\n",
    "a = b * (h/2)\n",
    "\n",
    "print(\"Triangle are: \",a)"
   ]
  },
  {
   "cell_type": "code",
   "execution_count": 1,
   "metadata": {},
   "outputs": [
    {
     "name": "stdout",
     "output_type": "stream",
     "text": [
      "48\n"
     ]
    }
   ],
   "source": [
    "#14\n",
    "x = 12\n",
    "y = 16\n",
    "if x > y:\n",
    "    z = x\n",
    "else:\n",
    "    z = y\n",
    "while(True):\n",
    "    if((z % x == 0) and (z % y == 0)):\n",
    "        break\n",
    "    z += 1\n",
    "print(z)"
   ]
  },
  {
   "cell_type": "code",
   "execution_count": null,
   "metadata": {},
   "outputs": [
    {
     "name": "stdout",
     "output_type": "stream",
     "text": [
      "0\n"
     ]
    }
   ],
   "source": [
    "#15\n",
    "x = 1\n",
    "y = 1\n",
    "z = 2\n",
    "if x == y or y == z or x==z:\n",
    "    sum = 0\n",
    "else:\n",
    "    sum = x + y + z\n",
    "print(sum)"
   ]
  },
  {
   "cell_type": "code",
   "execution_count": null,
   "metadata": {},
   "outputs": [
    {
     "name": "stdout",
     "output_type": "stream",
     "text": [
      "(4 + 3 ) ^ 2 =  49\n"
     ]
    }
   ],
   "source": [
    "#16\n",
    "x = 4\n",
    "y = 3\n",
    "\n",
    "print(\"(4 + 3 ) ^ 2 = \", (x+y)*(x+y))\n"
   ]
  },
  {
   "cell_type": "code",
   "execution_count": null,
   "metadata": {},
   "outputs": [
    {
     "name": "stdout",
     "output_type": "stream",
     "text": [
      "12722.79\n"
     ]
    }
   ],
   "source": [
    "#17\n",
    "a = 10000\n",
    "i = 3.5\n",
    "y = 7\n",
    "future_value = \"{:.2f}\".format(a*((1+(0.01*i)) ** y))\n",
    "print((future_value))"
   ]
  },
  {
   "cell_type": "code",
   "execution_count": null,
   "metadata": {},
   "outputs": [
    {
     "name": "stdout",
     "output_type": "stream",
     "text": [
      "2.8284271247461903\n"
     ]
    }
   ],
   "source": [
    "#18\n",
    "import math\n",
    "i = [1, 2]\n",
    "j = [3, 4]\n",
    "distance = math.sqrt( ((i[0]-j[0])**2)+((i[1]-j[1])**2) )\n",
    "\n",
    "print(distance)"
   ]
  },
  {
   "cell_type": "code",
   "execution_count": null,
   "metadata": {},
   "outputs": [
    {
     "name": "stdout",
     "output_type": "stream",
     "text": [
      "Sum of the first 2 integers is 3\n"
     ]
    }
   ],
   "source": [
    "#19\n",
    "n = eval(input(\"Input a number: \"))\n",
    "sum = 0\n",
    "for i in range(1,n+1):\n",
    "    sum = sum + i\n",
    "print(\"Sum of the first\", n ,\"integers is\", sum)"
   ]
  },
  {
   "cell_type": "code",
   "execution_count": 11,
   "metadata": {},
   "outputs": [
    {
     "name": "stdout",
     "output_type": "stream",
     "text": [
      "Input your height: \n",
      "Your height is : 170.18 cm.\n"
     ]
    }
   ],
   "source": [
    "#20\n",
    "i = float(input(\"Feet: \"))\n",
    "j = float(input(\"Inches: \"))\n",
    "\n",
    "j = j+(i * 12)\n",
    "k = (j * 2.54)\n",
    "k = \"{:.2f}\".format(k)\n",
    "\n",
    "print(\"Your height is :\",k  ,\"cm.\")"
   ]
  },
  {
   "cell_type": "code",
   "execution_count": 21,
   "metadata": {},
   "outputs": [
    {
     "name": "stdout",
     "output_type": "stream",
     "text": [
      "2 lengths of the triangle's shorter sides:\n",
      "The hypotenuse's length is: 19.10\n"
     ]
    }
   ],
   "source": [
    "#21\n",
    "from math import sqrt\n",
    "a = eval(input(\"shorter side a: \"))\n",
    "b = eval(input(\"shorter side b: \"))\n",
    "c = sqrt(a**2 + b**2)\n",
    "c = \"{:.0f}\".format(c)\n",
    "print(\"The hypotenuse's length is:\", c )"
   ]
  },
  {
   "cell_type": "code",
   "execution_count": 32,
   "metadata": {},
   "outputs": [
    {
     "name": "stdout",
     "output_type": "stream",
     "text": [
      "BMI:  1.81\n"
     ]
    }
   ],
   "source": [
    "#22\n",
    "i = float(input(\"Height (Feet): \"))\n",
    "j = float(input(\"Weight (kg): \"))\n",
    "k = j / (i * i)\n",
    "k = \"{:.2f}\".format(k)\n",
    "print(\"BMI: \", k)"
   ]
  },
  {
   "cell_type": "code",
   "execution_count": 36,
   "metadata": {},
   "outputs": [
    {
     "name": "stdout",
     "output_type": "stream",
     "text": [
      "x's midpoint:  3.0\n",
      "y's midpoint:  3.0\n"
     ]
    }
   ],
   "source": [
    "#23\n",
    "x1 = float(input(\"x1: \"))\n",
    "y1 = float(input(\"y1: \"))\n",
    "\n",
    "x2 = float(input(\"x2: \"))\n",
    "y2 = float(input(\"y2: \"))\n",
    "\n",
    "z1 = \"{:.1f}\".format((x1 + x2)/2)\n",
    "z2 = \"{:.1f}\".format((y1 + y2)/2)\n",
    "print( \"x's midpoint: \",z1)\n",
    "print( \"y's midpoint: \",z2)"
   ]
  },
  {
   "cell_type": "code",
   "execution_count": 48,
   "metadata": {},
   "outputs": [
    {
     "name": "stdout",
     "output_type": "stream",
     "text": [
      "1512,1519,1526,1533,1547,1554,1561,1568,1582,1589,1596,1603,1617,1624,1631,1638,1652,1659,1666,1673,1687,1694,1701,1708,1722,1729,1736,1743,1757,1764,1771,1778,1792,1799,1806,1813,1827,1834,1841,1848,1862,1869,1876,1883,1897,1904,1911,1918,1932,1939,1946,1953,1967,1974,1981,1988,2002,2009,2016,2023,2037,2044,2051,2058,2072,2079,2086,2093,2107,2114,2121,2128,2142,2149,2156,2163,2177,2184,2191,2198,2212,2219,2226,2233,2247,2254,2261,2268,2282,2289,2296,2303,2317,2324,2331,2338,2352,2359,2366,2373,2387,2394,2401,2408,2422,2429,2436,2443,2457,2464,2471,2478,2492,2499,2506,2513,2527,2534,2541,2548,2562,2569,2576,2583,2597,2604,2611,2618,2632,2639,2646,2653,2667,2674,2681,2688,2702,2709,2716,2723,2737,2744,2751,2758,2772,2779,2786,2793,2807,2814,2821,2828,2842,2849,2856,2863,2877,2884,2891,2898,2912,2919,2926,2933,2947,2954,2961,2968,2982,2989,2996,3003,3017,3024,3031,3038,3052,3059,3066,3073,3087,3094,3101,3108,3122,3129,3136,3143,3157,3164,3171,3178,3192,3199\n"
     ]
    }
   ],
   "source": [
    "#24\n",
    "l=[]\n",
    "for x in range(1500, 3201):\n",
    "    if (x%7==0) and (x%5!=0):\n",
    "        l.append(str(x))\n",
    "print(','.join(l))"
   ]
  }
 ],
 "metadata": {
  "kernelspec": {
   "display_name": "Python 3.10.7 64-bit",
   "language": "python",
   "name": "python3"
  },
  "language_info": {
   "codemirror_mode": {
    "name": "ipython",
    "version": 3
   },
   "file_extension": ".py",
   "mimetype": "text/x-python",
   "name": "python",
   "nbconvert_exporter": "python",
   "pygments_lexer": "ipython3",
   "version": "3.10.7"
  },
  "orig_nbformat": 4,
  "vscode": {
   "interpreter": {
    "hash": "f6599f1fc4828c63e2b80b7cb09ba55f323222ad0836319fa558988e2a98299f"
   }
  }
 },
 "nbformat": 4,
 "nbformat_minor": 2
}
